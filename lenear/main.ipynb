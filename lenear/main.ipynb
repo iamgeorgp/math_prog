{
 "cells": [
  {
   "cell_type": "markdown",
   "metadata": {},
   "source": [
    "# Mathematical programming\n",
    "# Linear programming problem"
   ]
  },
  {
   "cell_type": "markdown",
   "metadata": {},
   "source": [
    "_Function_\n",
    "\n",
    "$f(x) = 2x_1 - x_2 + x_3 - 5*x_4 -> extr $\n",
    "\n",
    "$ x_i >= 0 $\n",
    "\n",
    "$ x_1 + 2*x_2 + x_4 = 5 $\n",
    "\n",
    "$ -x_1 + 4*x_2 + x_3 = 3 $\n",
    "\n",
    "- *Solve by simplex method*\n",
    "- *Solve using duality relations*"
   ]
  },
  {
   "cell_type": "code",
   "execution_count": 140,
   "metadata": {},
   "outputs": [],
   "source": [
    "from scipy.optimize import linprog\n",
    "import numpy as np\n",
    "\n",
    "def simplex_method(C, A, B):\n",
    "    # Initialize bounds for variables and result dictionary\n",
    "    bounds=[]\n",
    "    result={}\n",
    "\n",
    "    for i in range(len(C)):\n",
    "        bounds.append((0, None))\n",
    "\n",
    "    # Maximize the objective function\n",
    "    extr_max=linprog(C, \n",
    "                     A_eq=A, \n",
    "                     b_eq=B, \n",
    "                     bounds=bounds, \n",
    "                     method='simplex'\n",
    "                    )\n",
    "    \n",
    "    # Minimize the negation of the objective function for finding the minimum\n",
    "    extr_min=linprog((-1)*C, \n",
    "                     A_eq=A, \n",
    "                     b_eq=B, \n",
    "                     bounds=bounds, \n",
    "                     method='simplex'\n",
    "                    )\n",
    "    \n",
    "    # Store results in a dictionary\n",
    "    result['max'] = {'x': extr_max.x, \n",
    "                     'fun': extr_max.fun}\n",
    "    result['min'] = {'x': extr_min.x, \n",
    "                     'fun': extr_min.fun}\n",
    "    return result\n"
   ]
  },
  {
   "cell_type": "code",
   "execution_count": 141,
   "metadata": {},
   "outputs": [
    {
     "name": "stdout",
     "output_type": "stream",
     "text": [
      "extremum\n",
      "\tmax\n",
      "\t\txi = [0. 0. 3. 5.], f = -22\n",
      "\tmin\n",
      "\t\txi = [5. 0. 8. 0.], f = -18\n"
     ]
    },
    {
     "name": "stderr",
     "output_type": "stream",
     "text": [
      "C:\\Users\\gpapu\\AppData\\Local\\Temp\\ipykernel_6740\\2329119958.py:13: DeprecationWarning: `method='simplex'` is deprecated and will be removed in SciPy 1.11.0. Please use one of the HiGHS solvers (e.g. `method='highs'`) in new code.\n",
      "  extr_max=linprog(C,\n",
      "C:\\Users\\gpapu\\AppData\\Local\\Temp\\ipykernel_6740\\2329119958.py:21: DeprecationWarning: `method='simplex'` is deprecated and will be removed in SciPy 1.11.0. Please use one of the HiGHS solvers (e.g. `method='highs'`) in new code.\n",
      "  extr_min=linprog((-1)*C,\n"
     ]
    }
   ],
   "source": [
    "# Target function\n",
    "C = np.array([2, -1, 1, -5])\n",
    "\n",
    "# Constraint matrix\n",
    "A = np.array([\n",
    "        np.array([1, 2, 0, 1]),\n",
    "        np.array([-1, 4, 1, 0])\n",
    "    ])\n",
    "\n",
    "# Vector of right-hand sides of constraints\n",
    "B = np.array([5, 3])\n",
    "\n",
    "values=simplex_method(C=C, B=B, A=A)\n",
    "max, min=values['max'], values['min']\n",
    "print(f'extremum\\n\\tmax\\n\\t\\txi = {max[\"x\"]}, f = {int(max[\"fun\"])}\\n\\tmin\\n\\t\\txi = {min[\"x\"]}, f = {int(min[\"fun\"])}')"
   ]
  }
 ],
 "metadata": {
  "kernelspec": {
   "display_name": "base",
   "language": "python",
   "name": "python3"
  },
  "language_info": {
   "codemirror_mode": {
    "name": "ipython",
    "version": 3
   },
   "file_extension": ".py",
   "mimetype": "text/x-python",
   "name": "python",
   "nbconvert_exporter": "python",
   "pygments_lexer": "ipython3",
   "version": "3.11.5"
  }
 },
 "nbformat": 4,
 "nbformat_minor": 2
}
