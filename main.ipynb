{
 "cells": [
  {
   "cell_type": "markdown",
   "metadata": {},
   "source": [
    "# Mathematical programming\n",
    "# Extremum and methods of its search"
   ]
  },
  {
   "cell_type": "markdown",
   "metadata": {},
   "source": [
    "_Function_\n",
    "$$f(x) = 2x_1^2 + 3x_2^2 + x_3^2 - x_1x_2 + \\frac{x_1x_3}{2} + 10x_1$$\n",
    "\n",
    "- *Examine the necessary and sufficient conditions for the existence of an extremum*\n",
    "- *Search for minimum or maximum*\n",
    "- *Gradient method with step splitting*\n",
    "- *Newton's method*\n",
    "- *Conjugate gradient method*\n",
    "- !! another method of some kind !!!"
   ]
  },
  {
   "cell_type": "code",
   "execution_count": 1,
   "metadata": {},
   "outputs": [],
   "source": [
    "import sympy"
   ]
  },
  {
   "cell_type": "markdown",
   "metadata": {},
   "source": [
    "## Search for extremum (necessary and sufficient conditions)"
   ]
  },
  {
   "cell_type": "code",
   "execution_count": 2,
   "metadata": {},
   "outputs": [],
   "source": [
    "# def variables\n",
    "x1, x2, x3 = sympy.symbols('x1, x2, x3')\n",
    "f = 2*x1**2+3*x2**2+x3**2-x1*x2+(x1*x3)/2+10*x1\n",
    "# partial derivatives of the function\n",
    "df_dx1 = sympy.diff(f, x1)\n",
    "df_dx2 = sympy.diff(f, x2)\n",
    "df_dx3 = sympy.diff(f, x3)"
   ]
  },
  {
   "cell_type": "code",
   "execution_count": 3,
   "metadata": {},
   "outputs": [
    {
     "name": "stdout",
     "output_type": "stream",
     "text": [
      "df dx1 =  4*x1 - x2 + x3/2 + 10\n",
      "df dx2 =  -x1 + 6*x2\n",
      "df dx3 =  x1/2 + 2*x3\n"
     ]
    }
   ],
   "source": [
    "print('df dx1 = ', df_dx1)\n",
    "print('df dx2 = ', df_dx2)\n",
    "print('df dx3 = ', df_dx3)"
   ]
  },
  {
   "cell_type": "markdown",
   "metadata": {},
   "source": [
    "\n",
    "\\begin{cases}\n",
    "4x_1 - x_2 + \\frac{x_3}{2} = -10 \\\\\n",
    "-x_1 + 6x_2 = 0 \\\\\n",
    "\\frac{x_1}{2} + 2x_3 = 0\n",
    "\\end{cases}\n"
   ]
  },
  {
   "cell_type": "code",
   "execution_count": 4,
   "metadata": {},
   "outputs": [],
   "source": [
    "# find solution of partial derivatives system\n",
    "system_eq_solution = sympy.solve(\n",
    "                                    (sympy.Eq(df_dx1, 0), sympy.Eq(df_dx2, 0), sympy.Eq(df_dx3, 0)), \n",
    "                                    (x1, x2, x3)\n",
    "                                 )"
   ]
  },
  {
   "cell_type": "code",
   "execution_count": 5,
   "metadata": {},
   "outputs": [
    {
     "name": "stdout",
     "output_type": "stream",
     "text": [
      "System solution:\n",
      "x1 = -240/89 = -2.696629213483146\n",
      "x2 = -40/89 = -0.449438202247191\n",
      "x3 = 60/89 = 0.6741573033707865\n",
      "f  = -1200/89 = -13.48314606741573\n"
     ]
    }
   ],
   "source": [
    "print(\"System solution:\")\n",
    "print(\"x1 =\", system_eq_solution[x1], '=', float(system_eq_solution[x1]))\n",
    "print(\"x2 =\", system_eq_solution[x2], '=', float(system_eq_solution[x2]))\n",
    "print(\"x3 =\", system_eq_solution[x3], '=', float(system_eq_solution[x3]))\n",
    "print(\"f  =\", f.subs({x1: system_eq_solution[x1], x2: system_eq_solution[x2], x3: system_eq_solution[x3]}),\n",
    "      '=', float(f.subs({x1: system_eq_solution[x1], x2: system_eq_solution[x2], x3: system_eq_solution[x3]})))"
   ]
  },
  {
   "cell_type": "markdown",
   "metadata": {},
   "source": [
    "_System solution:_\n",
    "$$\n",
    "\\begin{align*}\n",
    "x_1 &= -\\frac{240}{89} \\approx -2.6966 \\\\\n",
    "x_2 &= -\\frac{40}{89} \\approx -0.4494 \\\\\n",
    "x_3 &= \\frac{60}{89} \\approx 0.6742 \\\\\n",
    "f  &= \\frac{-1200}{89} \\approx -13.4831 \\\\\n",
    "\\end{align*}\n",
    "$$\n"
   ]
  },
  {
   "cell_type": "markdown",
   "metadata": {},
   "source": [
    "_Hessian Matrix (H):_\n",
    "$$H = \n",
    "\\begin{bmatrix}\n",
    "    \\frac{{\\partial^2 f}}{{\\partial x_1^2}} & \\frac{{\\partial^2 f}}{{\\partial x_1 \\partial x_2}} & \\frac{{\\partial^2 f}}{{\\partial x_1 \\partial x_3}} \\\\\n",
    "    \\frac{{\\partial^2 f}}{{\\partial x_2 \\partial x_1}} & \\frac{{\\partial^2 f}}{{\\partial x_2^2}} & \\frac{{\\partial^2 f}}{{\\partial x_2 \\partial x_3}} \\\\\n",
    "    \\frac{{\\partial^2 f}}{{\\partial x_3 \\partial x_1}} & \\frac{{\\partial^2 f}}{{\\partial x_3 \\partial x_2}} & \\frac{{\\partial^2 f}}{{\\partial x_3^2}}\n",
    "\\end{bmatrix}\n",
    "$$\n",
    "\n"
   ]
  },
  {
   "cell_type": "code",
   "execution_count": 6,
   "metadata": {},
   "outputs": [],
   "source": [
    "# Calculating second partial derivatives\n",
    "d2f_dx1_dx1 = sympy.diff(df_dx1, x1)\n",
    "d2f_dx1_dx2 = sympy.diff(df_dx1, x2)\n",
    "d2f_dx1_dx3 = sympy.diff(df_dx1, x3)\n",
    "\n",
    "d2f_dx2_dx2 = sympy.diff(df_dx2, x2)\n",
    "d2f_dx2_dx1 = sympy.diff(df_dx2, x1)\n",
    "d2f_dx2_dx3 = sympy.diff(df_dx2, x3)\n",
    "\n",
    "d2f_dx3_dx3 = sympy.diff(df_dx3, x3)\n",
    "d2f_dx3_dx1 = sympy.diff(df_dx3, x1)\n",
    "d2f_dx3_dx2 = sympy.diff(df_dx3, x2)\n",
    "\n",
    "# Making a Hesse matrix\n",
    "hessian_matrix = sympy.Matrix([\n",
    "    [d2f_dx1_dx1, d2f_dx1_dx2, d2f_dx1_dx3],\n",
    "    [d2f_dx2_dx1, d2f_dx2_dx2, d2f_dx2_dx3],\n",
    "    [d2f_dx3_dx1, d2f_dx3_dx2, d2f_dx3_dx3]\n",
    "])\n"
   ]
  },
  {
   "cell_type": "code",
   "execution_count": 7,
   "metadata": {},
   "outputs": [
    {
     "name": "stdout",
     "output_type": "stream",
     "text": [
      "Hessian matrix = Matrix([[4, -1, 1/2], [-1, 6, 0], [1/2, 0, 2]])\n"
     ]
    }
   ],
   "source": [
    "print('Hessian matrix =', hessian_matrix)"
   ]
  },
  {
   "cell_type": "code",
   "execution_count": 8,
   "metadata": {},
   "outputs": [],
   "source": [
    "M1_diag = hessian_matrix[0:1, 0:1].det()\n",
    "M2_diag = hessian_matrix[0:2, 0:2].det()\n",
    "M3_diag = hessian_matrix.det()"
   ]
  },
  {
   "cell_type": "markdown",
   "metadata": {},
   "source": [
    "_Minor 1 Diagonal_: $$M_1 = \\begin{vmatrix} 4 \\end{vmatrix} = 4$$\n",
    "\n",
    "_Minor 2 Diagonal_: $$M_2 = \\begin{vmatrix} 4 & -1 \\\\ -1 & 6 \\end{vmatrix} = 23$$\n",
    "\n",
    "_Minor 3 Diagonal_: $$M_3 = \\begin{vmatrix} 4 & -1 & \\frac{1}{2} \\\\ -1 & 6 & 0 \\\\ \\frac{1}{2} & 0 & 2 \\end{vmatrix} = \\frac{89}{2}$$\n",
    "\n",
    "_If all diagonal minors of the Hesse matrix are positive at the point then it indicates that the function has a local minimum at this point._"
   ]
  },
  {
   "cell_type": "markdown",
   "metadata": {},
   "source": [
    "## Gradient method with step splitting"
   ]
  },
  {
   "cell_type": "code",
   "execution_count": 9,
   "metadata": {},
   "outputs": [],
   "source": [
    "def Gradient_method_step_split(f, x, variables, alpha, beta, epsilon):\n",
    "\t# def gradient of function\n",
    "\tgrad_f = [sympy.diff(f, var) for var in variables]\n",
    "\t\n",
    "\t# iteration of method\n",
    "\titeration = 0\n",
    "\twhile True:\n",
    "\t\tgradient_value = [grad.subs({x1: x[0], x2: x[1], x3: x[2]}) for grad in grad_f]\n",
    "\t\tnorm_gradient = sympy.sqrt(sum(val**2 for val in gradient_value))\n",
    "\t\tif norm_gradient < epsilon:\n",
    "\t\t\tbreak\n",
    "\t\tx_new = [x[i] - alpha * gradient_value[i] for i in range(3)]\n",
    "\t\twhile f.subs({x1: x_new[0], x2: x_new[1], x3: x_new[2]}) > f.subs({x1: x[0], x2: x[1], x3: x[2]}):\n",
    "\t\t\talpha *= beta\n",
    "\t\t\tx_new = [x[i] - alpha * gradient_value[i] for i in range(3)]\n",
    "\t\tx = x_new\n",
    "\t\titeration += 1\n",
    "\treturn iteration, x"
   ]
  },
  {
   "cell_type": "code",
   "execution_count": 10,
   "metadata": {},
   "outputs": [
    {
     "name": "stdout",
     "output_type": "stream",
     "text": [
      "The extremum is found in 20 iterations.\n",
      "\n",
      "x1 = -2.69659113465144,\n",
      "x2 = -0.449527913537185,\n",
      "x3 = 0.674161030137189\n",
      "\n",
      "The value of a function at an extremum:\n",
      "f = -13.4831460368704\n"
     ]
    }
   ],
   "source": [
    "iterations, point = Gradient_method_step_split(\n",
    "                                                        f, \n",
    "                                                        x = [0, 0, 0], \n",
    "                                                        variables = (x1, x2, x3), \n",
    "                                                        alpha = 1.0 , \n",
    "                                                        beta = 0.5, \n",
    "                                                        epsilon = 0.001\n",
    "                                                      )  \n",
    "print(f\"The extremum is found in {iterations} iterations.\\n\")\n",
    "print(f\"x1 = {point[0]},\\nx2 = {point[1]},\\nx3 = {point[2]}\\n\")\n",
    "print(f\"The value of a function at an extremum:\\nf = {f.subs({x1: point[0], x2: point[1], x3: point[2]})}\")"
   ]
  }
 ],
 "metadata": {
  "kernelspec": {
   "display_name": "Python 3",
   "language": "python",
   "name": "python3"
  },
  "language_info": {
   "codemirror_mode": {
    "name": "ipython",
    "version": 3
   },
   "file_extension": ".py",
   "mimetype": "text/x-python",
   "name": "python",
   "nbconvert_exporter": "python",
   "pygments_lexer": "ipython3",
   "version": "3.11.3"
  }
 },
 "nbformat": 4,
 "nbformat_minor": 2
}
